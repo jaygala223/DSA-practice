{
 "cells": [
  {
   "cell_type": "code",
   "execution_count": 84,
   "metadata": {},
   "outputs": [],
   "source": [
    "class Stack:\n",
    "    def __init__(self):\n",
    "        self.items = []\n",
    "        self.maxi_num = 0\n",
    "        self.mini_num = 0\n",
    "\n",
    "    def _display(self):\n",
    "        print(self.items)\n",
    "    \n",
    "    def push(self, num):\n",
    "        if self.is_empty():\n",
    "            self.maxi_num = num\n",
    "            self.mini_num = num\n",
    "\n",
    "        if type(num) == list:\n",
    "            for n in num:\n",
    "                self.items.append(n)\n",
    "                self.maxi_num = max(n, self.maxi_num)\n",
    "                self.mini_num = min(n, self.mini_num)\n",
    "        elif type(num) == float or type(num) == int:\n",
    "            self.maxi_num = max(num, self.maxi_num)\n",
    "            self.mini_num = min(num, self.mini_num)\n",
    "            self.items.append(num)\n",
    "        return self._display()\n",
    "    \n",
    "    def pop(self):\n",
    "\n",
    "        if self.is_empty():\n",
    "            raise Exception(\"Stack is empty\")\n",
    "        else: \n",
    "            #to update maxi_num/mini_num if the maximum/minimum element is being popped\n",
    "            if self.maxi_num == self.items[-1]:\n",
    "                self.maxi_num = max(self.items[:-1])\n",
    "            if self.mini_num == self.items[-1]:\n",
    "                self.mini_num = min(self.items[:-1])\n",
    "            return self.items.pop()\n",
    "    \n",
    "\n",
    "    def is_empty(self):\n",
    "        return len(self.items) == 0\n",
    "        \n",
    "\n",
    "    def maximum(self):\n",
    "        if self.is_empty(): return 0\n",
    "        return self.maxi_num\n",
    "\n",
    "    def minimum(self):\n",
    "        if self.is_empty(): return 0\n",
    "        return self.mini_num\n",
    "\n",
    "    def peek(self):\n",
    "        if self.is_empty():\n",
    "            raise Exception(\"Stack is empty\")\n",
    "        else: print(self.items[-1])"
   ]
  },
  {
   "cell_type": "code",
   "execution_count": 85,
   "metadata": {},
   "outputs": [],
   "source": [
    "s1 = Stack()"
   ]
  },
  {
   "cell_type": "code",
   "execution_count": 86,
   "metadata": {},
   "outputs": [
    {
     "name": "stdout",
     "output_type": "stream",
     "text": [
      "[33]\n"
     ]
    }
   ],
   "source": [
    "s1.push(33)"
   ]
  },
  {
   "cell_type": "code",
   "execution_count": 87,
   "metadata": {},
   "outputs": [
    {
     "name": "stdout",
     "output_type": "stream",
     "text": [
      "33\n",
      "33\n"
     ]
    }
   ],
   "source": [
    "print(s1.maximum())\n",
    "print(s1.minimum())"
   ]
  },
  {
   "cell_type": "code",
   "execution_count": 88,
   "metadata": {},
   "outputs": [
    {
     "name": "stdout",
     "output_type": "stream",
     "text": [
      "[33, 33, 44, 55, 66, 1]\n"
     ]
    },
    {
     "data": {
      "text/plain": [
       "66"
      ]
     },
     "execution_count": 88,
     "metadata": {},
     "output_type": "execute_result"
    }
   ],
   "source": [
    "s1.push([33,44,55,66,1])\n",
    "s1.maximum()\n"
   ]
  },
  {
   "cell_type": "code",
   "execution_count": 89,
   "metadata": {},
   "outputs": [
    {
     "data": {
      "text/plain": [
       "1"
      ]
     },
     "execution_count": 89,
     "metadata": {},
     "output_type": "execute_result"
    }
   ],
   "source": [
    "s1.minimum()"
   ]
  },
  {
   "cell_type": "code",
   "execution_count": 90,
   "metadata": {},
   "outputs": [
    {
     "data": {
      "text/plain": [
       "66"
      ]
     },
     "execution_count": 90,
     "metadata": {},
     "output_type": "execute_result"
    }
   ],
   "source": [
    "s1.pop()\n",
    "s1.maximum()"
   ]
  },
  {
   "cell_type": "code",
   "execution_count": 91,
   "metadata": {},
   "outputs": [
    {
     "data": {
      "text/plain": [
       "33"
      ]
     },
     "execution_count": 91,
     "metadata": {},
     "output_type": "execute_result"
    }
   ],
   "source": [
    "s1.minimum()"
   ]
  },
  {
   "cell_type": "code",
   "execution_count": 92,
   "metadata": {},
   "outputs": [
    {
     "name": "stdout",
     "output_type": "stream",
     "text": [
      "[33, 33, 44, 55, 66]\n",
      "[33, 33, 44, 55]\n"
     ]
    },
    {
     "data": {
      "text/plain": [
       "55"
      ]
     },
     "execution_count": 92,
     "metadata": {},
     "output_type": "execute_result"
    }
   ],
   "source": [
    "s1._display()\n",
    "s1.maximum()\n",
    "s1.pop()\n",
    "s1._display()\n",
    "s1.maximum()"
   ]
  },
  {
   "cell_type": "code",
   "execution_count": 93,
   "metadata": {},
   "outputs": [
    {
     "data": {
      "text/plain": [
       "33"
      ]
     },
     "execution_count": 93,
     "metadata": {},
     "output_type": "execute_result"
    }
   ],
   "source": [
    "s1.minimum()"
   ]
  },
  {
   "cell_type": "code",
   "execution_count": 94,
   "metadata": {},
   "outputs": [
    {
     "name": "stdout",
     "output_type": "stream",
     "text": [
      "55\n"
     ]
    }
   ],
   "source": [
    "s1.peek()"
   ]
  }
 ],
 "metadata": {
  "kernelspec": {
   "display_name": "Python 3",
   "language": "python",
   "name": "python3"
  },
  "language_info": {
   "codemirror_mode": {
    "name": "ipython",
    "version": 3
   },
   "file_extension": ".py",
   "mimetype": "text/x-python",
   "name": "python",
   "nbconvert_exporter": "python",
   "pygments_lexer": "ipython3",
   "version": "3.8.0"
  },
  "orig_nbformat": 4
 },
 "nbformat": 4,
 "nbformat_minor": 2
}
